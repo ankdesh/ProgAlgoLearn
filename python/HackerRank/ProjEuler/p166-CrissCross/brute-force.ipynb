{
 "cells": [
  {
   "cell_type": "code",
   "execution_count": 1,
   "metadata": {},
   "outputs": [],
   "source": [
    "inp = '1'\n",
    "out = '34'"
   ]
  },
  {
   "cell_type": "code",
   "execution_count": 3,
   "metadata": {},
   "outputs": [],
   "source": [
    "import numpy as np"
   ]
  },
  {
   "cell_type": "code",
   "execution_count": 62,
   "metadata": {},
   "outputs": [],
   "source": [
    "def check_arr(arr):\n",
    "    ''' Checks if sum of all rows, columns and diagonals are same'''\n",
    "    sum_diag_major = 0\n",
    "    sum_diag_minor = 0\n",
    "    for i in range(arr.shape[0]):\n",
    "        sum_diag_major += arr[i][i]\n",
    "        sum_diag_minor += arr[(arr.shape[0] - 1) - i][i]\n",
    "    all_elems = np.concatenate((arr.sum(axis = 0),arr.sum(axis = 1), [sum_diag_major,sum_diag_minor]), axis = 0)\n",
    "    all_equal = np.all(all_elems == all_elems[0])\n",
    "    return all_equal"
   ]
  },
  {
   "cell_type": "code",
   "execution_count": 63,
   "metadata": {},
   "outputs": [],
   "source": [
    "test_inp = np.random.randint(0, 3, size=(4,4))"
   ]
  },
  {
   "cell_type": "code",
   "execution_count": 64,
   "metadata": {},
   "outputs": [
    {
     "name": "stdout",
     "output_type": "stream",
     "text": [
      "[[2 0 0 2]\n",
      " [2 0 2 1]\n",
      " [1 2 1 1]\n",
      " [0 2 1 2]] (4, 4)\n",
      "[5 4 4 6]\n"
     ]
    }
   ],
   "source": [
    "print (test_inp, test_inp.shape)\n",
    "print (test_inp.sum(axis = 0))"
   ]
  },
  {
   "cell_type": "code",
   "execution_count": 65,
   "metadata": {},
   "outputs": [
    {
     "name": "stdout",
     "output_type": "stream",
     "text": [
      "False\n"
     ]
    }
   ],
   "source": [
    "print (check_arr(test_inp))"
   ]
  },
  {
   "cell_type": "code",
   "execution_count": 66,
   "metadata": {},
   "outputs": [],
   "source": [
    "# Example in problem statement\n",
    "test_inp_2 = np.array([[6, 3, 3, 0,],\n",
    "[5, 0, 4, 3],\n",
    "[0, 7, 1, 4],\n",
    "[1, 2, 4, 5]])"
   ]
  },
  {
   "cell_type": "code",
   "execution_count": 67,
   "metadata": {},
   "outputs": [
    {
     "name": "stdout",
     "output_type": "stream",
     "text": [
      "True\n"
     ]
    }
   ],
   "source": [
    "print (check_arr(test_inp_2))"
   ]
  },
  {
   "cell_type": "code",
   "execution_count": null,
   "metadata": {},
   "outputs": [],
   "source": [
    "def brute_force(arr, n):\n",
    "    count_all_equal = 0\n",
    "        "
   ]
  }
 ],
 "metadata": {
  "kernelspec": {
   "display_name": "Python 3",
   "language": "python",
   "name": "python3"
  },
  "language_info": {
   "codemirror_mode": {
    "name": "ipython",
    "version": 3
   },
   "file_extension": ".py",
   "mimetype": "text/x-python",
   "name": "python",
   "nbconvert_exporter": "python",
   "pygments_lexer": "ipython3",
   "version": "3.6.9"
  }
 },
 "nbformat": 4,
 "nbformat_minor": 4
}
