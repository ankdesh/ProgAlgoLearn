{
 "cells": [
  {
   "cell_type": "code",
   "execution_count": null,
   "metadata": {
    "collapsed": false
   },
   "outputs": [],
   "source": [
    "from itertools import combinations, permutations"
   ]
  },
  {
   "cell_type": "code",
   "execution_count": null,
   "metadata": {
    "collapsed": false
   },
   "outputs": [],
   "source": [
    "houselist = list(permutations('12345',5))"
   ]
  },
  {
   "cell_type": "code",
   "execution_count": null,
   "metadata": {
    "collapsed": false
   },
   "outputs": [],
   "source": [
    "#for (red, green, ivory, yellow, blue) in houselist:\n",
    "#    print (red)"
   ]
  },
  {
   "cell_type": "code",
   "execution_count": null,
   "metadata": {
    "collapsed": false
   },
   "outputs": [],
   "source": [
    "abs(-1)"
   ]
  },
  {
   "cell_type": "code",
   "execution_count": 2,
   "metadata": {
    "collapsed": false
   },
   "outputs": [
    {
     "name": "stdout",
     "output_type": "stream",
     "text": [
      "[3, 2, 4, 5, 1]\n"
     ]
    }
   ],
   "source": [
    "# Problem set 2\n",
    "import itertools\n",
    "\n",
    "def floor_puzzle():\n",
    "    # Your code here\n",
    "    for (Hopper, Kay, Liskov, Perlis, Ritchie) in itertools.permutations([1,2,3,4,5]):\n",
    "        if Hopper != 5 and Kay != 1 and Liskov != 5 and Liskov != 1 and Perlis > Kay and abs(Ritchie - Liskov) != 1 and abs(Kay - Liskov) != 1:\n",
    "            return [Hopper, Kay, Liskov, Perlis, Ritchie]\n",
    "\n",
    "print (floor_puzzle())"
   ]
  },
  {
   "cell_type": "code",
   "execution_count": 20,
   "metadata": {
    "collapsed": false
   },
   "outputs": [
    {
     "name": "stdout",
     "output_type": "stream",
     "text": [
      "tests pass\n"
     ]
    }
   ],
   "source": [
    "# --------------\n",
    "# User Instructions\n",
    "#\n",
    "# Write a function, longest_subpalindrome_slice(text) that takes \n",
    "# a string as input and returns the i and j indices that \n",
    "# correspond to the beginning and end indices of the longest \n",
    "# palindrome in the string. \n",
    "#\n",
    "# Grading Notes:\n",
    "# \n",
    "# You will only be marked correct if your function runs \n",
    "# efficiently enough. We will be measuring efficency by counting\n",
    "# the number of times you access each string. That count must be\n",
    "# below a certain threshold to be marked correct.\n",
    "#\n",
    "# Please do not use regular expressions to solve this quiz!\n",
    "\n",
    "def longest_subpalindrome_slice(text):\n",
    "    \"Return (i, j) such that text[i:j] is the longest palindrome in text.\"\n",
    "    lenText = len(text)\n",
    "    text = text.lower()\n",
    "    palindromeLen2Pos = []\n",
    "    palindromeLen3Pos = []\n",
    "    for i in range(len(text)-1):\n",
    "        if (text[i] == text[i+1]):\n",
    "            palindromeLen2Pos.append(i)\n",
    "    for i in range(len(text)-2):\n",
    "        if (text[i] == text[i+2]):\n",
    "            palindromeLen3Pos.append(i)\n",
    "    if len(palindromeLen2Pos) == 0 and len(palindromeLen3Pos) == 0:\n",
    "        return (0,0)\n",
    "    #print (palindromeLen2Pos, palindromeLen3Pos)\n",
    "    largestIdxPair = ()\n",
    "    largestLen = 0\n",
    "    for candidate in palindromeLen2Pos:\n",
    "        lenPalindrome = 2\n",
    "        startPos = candidate\n",
    "        while (startPos > 0 and startPos + lenPalindrome < lenText and text[startPos-1] == text[startPos + lenPalindrome] ):\n",
    "            startPos -= 1\n",
    "            lenPalindrome += 2\n",
    "        if lenPalindrome > largestLen:\n",
    "            largestLen = lenPalindrome\n",
    "            largestIdxPair = (startPos, startPos + lenPalindrome)\n",
    "    \n",
    "    for candidate in palindromeLen3Pos:\n",
    "        lenPalindrome = 3\n",
    "        startPos = candidate\n",
    "        #print ('>>' + str([startPos,lenPalindrome]) )\n",
    "        while (startPos > 0 and startPos + lenPalindrome < lenText and text[startPos-1] == text[startPos + lenPalindrome] ):\n",
    "            startPos -= 1\n",
    "            lenPalindrome += 2\n",
    "            #print ('>>' + str([startPos,lenPalindrome]) )\n",
    "        if lenPalindrome > largestLen:\n",
    "            largestLen = lenPalindrome\n",
    "            largestIdxPair = (startPos, startPos + lenPalindrome)\n",
    "    \n",
    "    return largestIdxPair\n",
    "    \n",
    "def test():\n",
    "    L = longest_subpalindrome_slice\n",
    "    #print (longest_subpalindrome_slice('racecar'))\n",
    "    assert L('racecar') == (0, 7)\n",
    "    assert L('Racecar') == (0, 7)\n",
    "    assert L('RacecarX') == (0, 7)\n",
    "    assert L('Race carr') == (7, 9)\n",
    "    assert L('') == (0, 0)\n",
    "    assert L('something rac e car going') == (8,21)\n",
    "    assert L('xxxxx') == (0, 5)\n",
    "    assert L('Mad am I ma dam.') == (0, 15)\n",
    "    return 'tests pass'\n",
    "\n",
    "print (test())"
   ]
  },
  {
   "cell_type": "code",
   "execution_count": 16,
   "metadata": {
    "collapsed": false
   },
   "outputs": [
    {
     "data": {
      "text/plain": [
       "'asd'"
      ]
     },
     "execution_count": 16,
     "metadata": {},
     "output_type": "execute_result"
    }
   ],
   "source": [
    "asd = 'asd'\n",
    "asd.lower()"
   ]
  },
  {
   "cell_type": "code",
   "execution_count": null,
   "metadata": {
    "collapsed": true
   },
   "outputs": [],
   "source": []
  }
 ],
 "metadata": {
  "kernelspec": {
   "display_name": "Python 3",
   "language": "python",
   "name": "python3"
  },
  "language_info": {
   "codemirror_mode": {
    "name": "ipython",
    "version": 3
   },
   "file_extension": ".py",
   "mimetype": "text/x-python",
   "name": "python",
   "nbconvert_exporter": "python",
   "pygments_lexer": "ipython3",
   "version": "3.6.0"
  }
 },
 "nbformat": 4,
 "nbformat_minor": 2
}
