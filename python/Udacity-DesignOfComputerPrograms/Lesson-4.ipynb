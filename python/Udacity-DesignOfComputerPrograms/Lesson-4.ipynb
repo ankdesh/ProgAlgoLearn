{
 "cells": [
  {
   "cell_type": "code",
   "execution_count": 20,
   "metadata": {
    "collapsed": false
   },
   "outputs": [
    {
     "name": "stdout",
     "output_type": "stream",
     "text": [
      "tests pass\n"
     ]
    }
   ],
   "source": [
    "def bsuccessors(state):\n",
    "    \"\"\"Return a dict of {state:action} pairs. A state is a (here, there, t) tuple,\n",
    "    where here and there are frozensets of people (indicated by their times) and/or\n",
    "    the 'light', and t is a number indicating the elapsed time. Action is represented\n",
    "    as a tuple (person1, person2, arrow), where arrow is '->' for here to there and \n",
    "    '<-' for there to here.\"\"\"\n",
    "    here, there, t = state\n",
    "    # your code here\n",
    "    dictStateAct = {}\n",
    "    if 'light' in here: \n",
    "        for person in here:\n",
    "            if person != 'light':\n",
    "                dictStateAct [here - frozenset([person,'light']) , there.union(frozenset([person,'light'])), t + person] = (person,person,'->')\n",
    "    if 'light' in there:\n",
    "        for person in there:\n",
    "            if person != 'light':\n",
    "                dictStateAct [ here.union(frozenset([person,'light'])), there - frozenset([person,'light']), t + person] = (person,person,'<-')\n",
    "    return dictStateAct\n",
    "    \n",
    "def test():\n",
    "\n",
    "    assert bsuccessors((frozenset([1, 'light']), frozenset([]), 3)) == {\n",
    "                (frozenset([]), frozenset([1, 'light']), 4): (1, 1, '->')}\n",
    "\n",
    "    assert bsuccessors((frozenset([]), frozenset([2, 'light']), 0)) =={\n",
    "                (frozenset([2, 'light']), frozenset([]), 2): (2, 2, '<-')}\n",
    "    \n",
    "    return 'tests pass'\n",
    "\n",
    "print (test())"
   ]
  },
  {
   "cell_type": "code",
   "execution_count": 17,
   "metadata": {
    "collapsed": false
   },
   "outputs": [
    {
     "data": {
      "text/plain": [
       "{(frozenset(), frozenset({1, 'light'}), 4): (1, 1, '->')}"
      ]
     },
     "execution_count": 17,
     "metadata": {},
     "output_type": "execute_result"
    }
   ],
   "source": [
    "bsuccessors((frozenset([1, 'light']), frozenset([]), 3))"
   ]
  },
  {
   "cell_type": "code",
   "execution_count": 19,
   "metadata": {
    "collapsed": false
   },
   "outputs": [
    {
     "data": {
      "text/plain": [
       "{(frozenset(), frozenset({2, 'light'}), 2): (2, 2, '<-')}"
      ]
     },
     "execution_count": 19,
     "metadata": {},
     "output_type": "execute_result"
    }
   ],
   "source": [
    "bsuccessors((frozenset([]), frozenset([2, 'light']), 0))"
   ]
  },
  {
   "cell_type": "code",
   "execution_count": null,
   "metadata": {
    "collapsed": true
   },
   "outputs": [],
   "source": []
  }
 ],
 "metadata": {
  "kernelspec": {
   "display_name": "Python 3",
   "language": "python",
   "name": "python3"
  },
  "language_info": {
   "codemirror_mode": {
    "name": "ipython",
    "version": 3
   },
   "file_extension": ".py",
   "mimetype": "text/x-python",
   "name": "python",
   "nbconvert_exporter": "python",
   "pygments_lexer": "ipython3",
   "version": "3.6.0"
  }
 },
 "nbformat": 4,
 "nbformat_minor": 2
}
